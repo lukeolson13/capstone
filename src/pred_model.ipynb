{
 "cells": [
  {
   "cell_type": "code",
   "execution_count": 1,
   "metadata": {},
   "outputs": [],
   "source": [
    "import pandas as pd\n",
    "import numpy as np\n",
    "import seaborn as sb\n",
    "from matplotlib import rc\n",
    "import matplotlib.pyplot as plt\n",
    "from mpl_toolkits.mplot3d import Axes3D\n",
    "from sklearn.pipeline import Pipeline\n",
    "from statsmodels.regression.linear_model import OLS\n",
    "from statsmodels.tools import add_constant\n",
    "from sklearn.model_selection import train_test_split, StratifiedShuffleSplit\n",
    "from sklearn.decomposition import PCA\n",
    "from sklearn.decomposition import TruncatedSVD\n",
    "from sklearn.preprocessing import StandardScaler\n",
    "from sklearn.cluster import KMeans, MiniBatchKMeans\n",
    "from sklearn.metrics import silhouette_score, mean_squared_error\n",
    "\n",
    "import time\n",
    "\n",
    "from sklearn.ensemble import RandomForestRegressor\n",
    "from sklearn.neural_network import MLPRegressor\n",
    "\n",
    "from shrink_functions import X_y, ss\n",
    "from model_functions import model_clusters, plot_rmse, clust_grid, class_crossval_plot\n",
    "from clust_functions import kmeans, elbow_plot, silhouette_plot, heir_clust"
   ]
  },
  {
   "cell_type": "code",
   "execution_count": 2,
   "metadata": {},
   "outputs": [
    {
     "data": {
      "text/html": [
       "<style>.container { width:100% !important; }</style>"
      ],
      "text/plain": [
       "<IPython.core.display.HTML object>"
      ]
     },
     "metadata": {},
     "output_type": "display_data"
    }
   ],
   "source": [
    "%matplotlib inline\n",
    "pd.set_option('max_columns',500)\n",
    "font = {'size': 20}\n",
    "rc('font', **font)\n",
    "plt.style.use('seaborn-bright')\n",
    "\n",
    "from IPython.core.display import display, HTML\n",
    "display(HTML(\"<style>.container { width:100% !important; }</style>\"))"
   ]
  },
  {
   "cell_type": "code",
   "execution_count": 3,
   "metadata": {},
   "outputs": [],
   "source": [
    "df = pd.read_pickle('data/SRP/clean_data_public_no_crime_lag2_by_cat.pkl')\n",
    "cust_table_clust = pd.read_pickle('data/SRP/cust_table_clusters_biased.pkl')\n",
    "df = df.join(cust_table_clust, on='address1', how='left')"
   ]
  },
  {
   "cell_type": "code",
   "execution_count": 4,
   "metadata": {},
   "outputs": [],
   "source": [
    "# split into features and targets\n",
    "non_feature_cols = ['shrink_value', 'shrink_to_sales_value_pct', 'shrink_value_out', 'shrink_to_sales_value_pct_out',\n",
    "               'shrink_value_ex_del', 'shrink_to_sales_value_pct_ex_del', 'qty_inv_out', 'qty_shrink',\n",
    "               'qty_shrink_ex_del', 'qty_shrink_out', 'qty_end_inventory', 'qty_f', 'qty_out', 'qty_ex_del',\n",
    "               'qty_n', 'qty_delivery', 'qty_o', 'qty_d', 'qty_shrink_per_day', 'shrink_value_per_day', 'qty_start_inventory']\n",
    "X, y = X_y(df, non_feature_cols, target_col='shrink_value_per_day')\n",
    "# del df # free up memory\n",
    "\n",
    "# random split for model testing (try/except based on customer seg being completed)\n",
    "X_train, X_test, y_train, y_test = train_test_split(X, y, test_size=0.2, stratify=X.cluster.values)"
   ]
  },
  {
   "cell_type": "code",
   "execution_count": 5,
   "metadata": {},
   "outputs": [],
   "source": [
    "# save off non-scaled version (for naive comparison)\n",
    "X_train_ns = X_train\n",
    "X_test_ns = X_test\n",
    "\n",
    "# standardize and scale data\n",
    "X_train = ss(X_train, std=True, scale=True)\n",
    "X_test = ss(X_test, std=True, scale=True)"
   ]
  },
  {
   "cell_type": "code",
   "execution_count": 6,
   "metadata": {},
   "outputs": [],
   "source": [
    "# create mask of all numberical columns to be used in clustering/modeling\n",
    "\n",
    "# including time features\n",
    "numb_mask = (X_train.dtypes == int) | (X_train.dtypes == np.float64) | (X_train.dtypes == np.float32) | (X_train.dtypes == np.uint8)\n",
    "numb_cols = X_train.columns[numb_mask]\n",
    "\n",
    "# not including time features\n",
    "numb_no_time_mask = (X_train.dtypes == int) | (X_train.dtypes == np.float64) | (X_train.dtypes == np.uint8)\n",
    "numb_no_time_cols = X_train.columns[numb_no_time_mask]\n",
    "\n",
    "# forcasting columns (what is known months ahead of time)\n",
    "forc_cols = ['FD_ratio', 'LAPOP1_10', 'POP2010', 'customer_id_1635139',\n",
    "             'customer_id_1903139', 'customer_id_2139', 'customer_id_2331150',\n",
    "             'customer_id_2741156', 'customer_id_2773156', 'customer_id_2782156',\n",
    "             'customer_id_2956160', 'customer_id_2977160', 'customer_id_3083182',\n",
    "             'customer_id_3088198', 'customer_id_3088201', 'customer_id_3089336',\n",
    "             'customer_id_3093327', 'customer_id_3093329', 'customer_id_3097348',\n",
    "             'dens_sq_mile', 'shrink_value_per_day_lag1', 'shrink_value_per_day_lag2', 'unemp_rate']\n",
    "# mask to be used in calculations\n",
    "model_mask_cols = numb_no_time_cols"
   ]
  },
  {
   "cell_type": "markdown",
   "metadata": {},
   "source": [
    "## Grid Search Models"
   ]
  },
  {
   "cell_type": "code",
   "execution_count": null,
   "metadata": {},
   "outputs": [],
   "source": [
    "model = RandomForestRegressor()\n",
    "params = {'n_estimators': [10, 30], 'max_features': [5, 10, 15], 'max_depth': [None, 20], 'n_jobs': [-1]}\n",
    "clust_grid(model, params, X_train, y_train, model_mask_cols)"
   ]
  },
  {
   "cell_type": "code",
   "execution_count": null,
   "metadata": {},
   "outputs": [],
   "source": [
    "model = MLPRegressor()\n",
    "# params = {'hidden_layer_sizes': [(100,), (50,50), (50,50,50)], 'learning_rate_init': [0.01, 0.001, 0.0001], \n",
    "#           'activation': ['identity', 'logistic', 'tanh', 'relu'], 'solver': ['adam'],  'max_iter': [300]}\n",
    "params = {'hidden_layer_sizes': [(10)], 'learning_rate_init': [0.01], \n",
    "          'activation': ['relu'], 'solver': ['adam'],  'max_iter': [10]}\n",
    "clust_grid(model, params, X_train, y_train, model_mask_cols)"
   ]
  },
  {
   "cell_type": "markdown",
   "metadata": {},
   "source": [
    "## Run Best Models"
   ]
  },
  {
   "cell_type": "code",
   "execution_count": 7,
   "metadata": {},
   "outputs": [
    {
     "name": "stdout",
     "output_type": "stream",
     "text": [
      "cluster:  1\n",
      "cluster:  2\n",
      "cluster:  3\n",
      "cluster:  4\n"
     ]
    }
   ],
   "source": [
    "mlp1 = MLPRegressor(alpha=0.001, solver='adam', activation='tanh', hidden_layer_sizes=(100,), learning_rate_init=0.001, max_iter=400)\n",
    "mlp2 = MLPRegressor(alpha=0.001, solver='adam', activation='tanh', hidden_layer_sizes=(100,), learning_rate_init=0.0001, max_iter=400)\n",
    "mlp3 = MLPRegressor(alpha=0.001, solver='adam', activation='relu', hidden_layer_sizes=(100,), learning_rate_init=0.001, max_iter=400)\n",
    "mlp4 = MLPRegressor(alpha=0.001, solver='adam', activation='relu', hidden_layer_sizes=(100,), learning_rate_init=0.0001, max_iter=400)\n",
    "mlp_list = [mlp1, mlp2, mlp3, mlp4]\n",
    "\n",
    "cluster_rmse, naive_rmse, cluster_models = model_clusters(mlp_list, X_train, X_test, X_test_ns, 'shrink_value_per_day_lag1_by_cat', model_mask_cols, y_train, y_test)"
   ]
  },
  {
   "cell_type": "code",
   "execution_count": 9,
   "metadata": {},
   "outputs": [
    {
     "name": "stdout",
     "output_type": "stream",
     "text": [
      "Average decrease: 23.1%\n"
     ]
    },
    {
     "data": {
      "image/png": "[encoded data removed]",
      "text/plain": [
       "<matplotlib.figure.Figure at 0x7f17928ae4a8>"
      ]
     },
     "metadata": {},
     "output_type": "display_data"
    }
   ],
   "source": [
    "plot_rmse(cluster_rmse, naive_rmse, num_clusters=len(X_train.cluster.unique()), \n",
    "          title='Predicting Next Visit Shrink Value')"
   ]
  },
  {
   "cell_type": "code",
   "execution_count": null,
   "metadata": {},
   "outputs": [],
   "source": []
  }
 ],
 "metadata": {
  "kernelspec": {
   "display_name": "Python 3",
   "language": "python",
   "name": "python3"
  },
  "language_info": {
   "codemirror_mode": {
    "name": "ipython",
    "version": 3
   },
   "file_extension": ".py",
   "mimetype": "text/x-python",
   "name": "python",
   "nbconvert_exporter": "python",
   "pygments_lexer": "ipython3",
   "version": "3.6.4"
  }
 },
 "nbformat": 4,
 "nbformat_minor": 2
}
