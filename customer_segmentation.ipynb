{
 "cells": [
  {
   "cell_type": "code",
   "execution_count": 1,
   "metadata": {},
   "outputs": [],
   "source": [
    "import pandas as pd\n",
    "import numpy as np\n",
    "import seaborn as sb\n",
    "from matplotlib import rc\n",
    "import matplotlib.pyplot as plt\n",
    "from mpl_toolkits.mplot3d import Axes3D\n",
    "from sklearn.pipeline import Pipeline\n",
    "from statsmodels.regression.linear_model import OLS\n",
    "from statsmodels.tools import add_constant\n",
    "from sklearn.model_selection import train_test_split, StratifiedShuffleSplit\n",
    "from sklearn.decomposition import PCA\n",
    "from sklearn.decomposition import TruncatedSVD\n",
    "from sklearn.preprocessing import StandardScaler\n",
    "from sklearn.cluster import KMeans, MiniBatchKMeans\n",
    "from sklearn.metrics import silhouette_score, mean_squared_error\n",
    "from scipy.spatial.distance import pdist, squareform\n",
    "from scipy.cluster.hierarchy import linkage, dendrogram\n",
    "import time"
   ]
  },
  {
   "cell_type": "code",
   "execution_count": 2,
   "metadata": {},
   "outputs": [
    {
     "data": {
      "text/html": [
       "<style>.container { width:100% !important; }</style>"
      ],
      "text/plain": [
       "<IPython.core.display.HTML object>"
      ]
     },
     "metadata": {},
     "output_type": "display_data"
    }
   ],
   "source": [
    "%matplotlib inline\n",
    "pd.set_option('max_columns',500)\n",
    "font = {'size': 20}\n",
    "rc('font', **font)\n",
    "plt.style.use('seaborn-bright')\n",
    "\n",
    "from IPython.core.display import display, HTML\n",
    "display(HTML(\"<style>.container { width:100% !important; }</style>\"))"
   ]
  },
  {
   "cell_type": "markdown",
   "metadata": {},
   "source": [
    "## Functions"
   ]
  },
  {
   "cell_type": "code",
   "execution_count": 7,
   "metadata": {},
   "outputs": [],
   "source": [
    "def kmeans(X_km, clusters):\n",
    "    SSE_arr = []\n",
    "    ss_arr = []\n",
    "    for i in clusters:\n",
    "        kmeans = KMeans(n_clusters=i, n_jobs=-1)\n",
    "        clust_dist = kmeans.fit_transform(X_km)\n",
    "        clust_num = kmeans.predict(X_km)\n",
    "\n",
    "        SSE = 0\n",
    "        for a, b in zip(clust_dist, clust_num):\n",
    "            SSE += a[b] ** 2\n",
    "        SSE_arr.append(SSE)\n",
    "        \n",
    "        if i > 1:\n",
    "            ss_arr.append(silhouette_score(X_km, clust_num))\n",
    "    return SSE_arr, ss_arr"
   ]
  },
  {
   "cell_type": "code",
   "execution_count": 8,
   "metadata": {},
   "outputs": [],
   "source": [
    "def silhouette(clusters, ss_arr):\n",
    "    plt.figure(figsize=(12,8))\n",
    "    plt.title('Silhouette Scores')\n",
    "    plt.plot(clusters, ss_arr)\n",
    "    plt.grid(alpha=0.3)\n",
    "    plt.xticks(clusters)\n",
    "    plt.xlabel('Number of Clusters')\n",
    "    plt.ylabel('Silhouette Score');"
   ]
  },
  {
   "cell_type": "markdown",
   "metadata": {},
   "source": [
    "## Create Customer Table"
   ]
  },
  {
   "cell_type": "code",
   "execution_count": 3,
   "metadata": {},
   "outputs": [],
   "source": [
    "df = pd.read_pickle('data/SRP/clean_data_public_no_crime_lag0.pkl')"
   ]
  },
  {
   "cell_type": "code",
   "execution_count": 6,
   "metadata": {},
   "outputs": [
    {
     "name": "stderr",
     "output_type": "stream",
     "text": [
      "/home/luke/anaconda2/envs/py3/lib/python3.6/site-packages/ipykernel_launcher.py:17: FutureWarning: set_value is deprecated and will be removed in a future release. Please use .at[] or .iat[] accessors instead\n",
      "/home/luke/anaconda2/envs/py3/lib/python3.6/site-packages/ipykernel_launcher.py:18: FutureWarning: set_value is deprecated and will be removed in a future release. Please use .at[] or .iat[] accessors instead\n",
      "/home/luke/anaconda2/envs/py3/lib/python3.6/site-packages/ipykernel_launcher.py:19: FutureWarning: set_value is deprecated and will be removed in a future release. Please use .at[] or .iat[] accessors instead\n",
      "/home/luke/anaconda2/envs/py3/lib/python3.6/site-packages/ipykernel_launcher.py:20: FutureWarning: set_value is deprecated and will be removed in a future release. Please use .at[] or .iat[] accessors instead\n"
     ]
    }
   ],
   "source": [
    "cust_table = df.groupby(['address1']).mean()[['qty_shrink_per_day', 'shrink_value_per_day', 'POP2010',\n",
    "                                              'FD_ratio', 'unemp_rate', 'dens_sq_mile', ]].reset_index()\n",
    "cust_table.set_index('address1', inplace=True)\n",
    "\n",
    "city_i = df.columns.get_loc('city')\n",
    "state_i = df.columns.get_loc('state')\n",
    "zip_i = df.columns.get_loc('zip_code')\n",
    "cust_i = df.columns.get_loc('customer_id')\n",
    "for index, row in cust_table.iterrows():\n",
    "    foo = df[ df.address1 == index]\n",
    "    for i, r in foo.iterrows():\n",
    "        city = r[city_i]\n",
    "        state = r[state_i]\n",
    "        zip_code = r[zip_i]\n",
    "        cust_id = r[cust_i]\n",
    "        \n",
    "        cust_table.set_value(index, 'city', city)\n",
    "        cust_table.set_value(index, 'state', state)\n",
    "        cust_table.set_value(index, 'zip_code', zip_code)\n",
    "        cust_table.set_value(index, 'customer_id', cust_id)\n",
    "        break"
   ]
  },
  {
   "cell_type": "code",
   "execution_count": null,
   "metadata": {},
   "outputs": [],
   "source": [
    "dummy_cust = pd.get_dummies(cust_table, columns=['customer_id','zip_code'])\n",
    "# including shrink and not inluding dummies\n",
    "shrink_cust_mask = (dummy_cust.dtypes == float)\n",
    "shrink_cust_cols = dummy_cust.columns[shrink_cust_mask]\n",
    "\n",
    "# including dummies but not shrink\n",
    "dummy_cust_mask = (dummy_cust.dtypes == float) | (dummy_cust.dtypes == np.uint8)\n",
    "dummy_cust_cols = dummy_cust.columns[dummy_cust_mask]\n",
    "dummy_cust_cols = list(dummy_cust_cols)\n",
    "dummy_cust_cols.remove('qty_shrink_per_day')\n",
    "dummy_cust_cols.remove('shrink_value_per_day')\n",
    "\n",
    "# including dummies and shrink\n",
    "all_cust_mask = (dummy_cust.dtypes == float) | (dummy_cust.dtypes == np.uint8)\n",
    "all_cust_cols = dummy_cust.columns[dummy_cust_mask]\n",
    "\n",
    "std_cust = std_f(dummy_cust.copy())"
   ]
  },
  {
   "cell_type": "markdown",
   "metadata": {},
   "source": [
    "## Feature Importance"
   ]
  },
  {
   "cell_type": "code",
   "execution_count": null,
   "metadata": {},
   "outputs": [],
   "source": [
    "# feature importance via lasso regression\n",
    "print('Shape before regularization: ',std_cust[dummy_cust_cols].shape)\n",
    "lasso = Lasso(alpha=0.01)\n",
    "lasso.fit(std_cust[dummy_cust_cols], std_cust['shrink_value_per_day'])\n",
    "model = SelectFromModel(lasso, prefit=True)\n",
    "std_cust_reduc = model.transform(std_cust[dummy_cust_cols])\n",
    "print('Shape after regularization: ',std_cust_reduc.shape)\n",
    "std_cust_reduc"
   ]
  },
  {
   "cell_type": "code",
   "execution_count": null,
   "metadata": {},
   "outputs": [],
   "source": [
    "#feature importance via linear SVR\n",
    "print('Shape before regularization: ',std_cust[dummy_cust_cols].shape)\n",
    "lsvr = LinearSVR(C=0.01, loss='epsilon_insensitive', dual=True)\n",
    "lsvr.fit(std_cust[dummy_cust_cols], std_cust['shrink_value_per_day'])\n",
    "model = SelectFromModel(lsvr, prefit=True)\n",
    "std_cust_reduc = model.transform(std_cust[dummy_cust_cols])\n",
    "print('Shape after regularization: ',std_cust_reduc.shape)\n",
    "std_cust_reduc\n",
    "model.get_support"
   ]
  },
  {
   "cell_type": "markdown",
   "metadata": {},
   "source": [
    "## Clustering/Segmentation"
   ]
  },
  {
   "cell_type": "code",
   "execution_count": null,
   "metadata": {},
   "outputs": [],
   "source": [
    "# columns to use in segmentation:\n",
    "pca_cols = ['qty_shrink_per_day', 'shrink_value_per_day', 'FD_ratio', 'dens_sq_mile', 'POP2010', 'unemp_rate']\n",
    "clusters = np.arange(1, 15)\n",
    "SSE_arr, ss_arr = kmeans(std_cust[all_cust_cols], clusters)\n",
    "#elbow(clusters, SSE_arr)\n",
    "silhouette(np.arange(2, 15), ss_arr)"
   ]
  },
  {
   "cell_type": "code",
   "execution_count": null,
   "metadata": {},
   "outputs": [],
   "source": [
    "cust_kmeans = KMeans(n_clusters=5, max_iter=10000, n_jobs=-1)\n",
    "pred = cust_kmeans.fit_predict(std_cust[all_cust_cols])\n",
    "dummy_cust['cluster'] = pred"
   ]
  },
  {
   "cell_type": "code",
   "execution_count": null,
   "metadata": {},
   "outputs": [],
   "source": [
    "# see breakdown of clusters\n",
    "print(dummy_cust.groupby('cluster').count().city)\n",
    "dummy_cust.groupby('cluster').mean()[all_cust_cols]"
   ]
  },
  {
   "cell_type": "markdown",
   "metadata": {},
   "source": [
    "### Plot Clusters"
   ]
  },
  {
   "cell_type": "code",
   "execution_count": null,
   "metadata": {},
   "outputs": [],
   "source": [
    "# 2-D plot\n",
    "cust_pca = PCA(2)\n",
    "pcas = cust_pca.fit_transform(std_cust[all_cust_cols])\n",
    "\n",
    "plt.figure(figsize=(12,12))\n",
    "plt.scatter(pcas[:,0], pcas[:,1], c=dummy_cust.cluster)"
   ]
  },
  {
   "cell_type": "code",
   "execution_count": null,
   "metadata": {},
   "outputs": [],
   "source": [
    "# 3-D Plot\n",
    "cust_pca = PCA(3)\n",
    "pcas = cust_pca.fit_transform(std_cust[all_cust_cols])\n",
    "\n",
    "fig = plt.figure(figsize=(12,12))\n",
    "ax = Axes3D(fig)\n",
    "ax.scatter(pcas[:,0], pcas[:,1], pcas[:,2], s=20, alpha=1, c=dummy_cust.cluster)\n",
    "ax.set_xlim(left=-10, right=2)\n",
    "ax.set_ylim(bottom=0, top=10)\n",
    "ax.set_zlim(top=5)"
   ]
  },
  {
   "cell_type": "markdown",
   "metadata": {},
   "source": [
    "## Append Clusters to Customer Table"
   ]
  },
  {
   "cell_type": "code",
   "execution_count": null,
   "metadata": {},
   "outputs": [],
   "source": [
    "#cust_table_clust = cust_table[['cluster']].astype(str)\n",
    "cust_table_clust = dummy_cust[['cluster']].astype(str)\n",
    "cust_table_clust.info()"
   ]
  },
  {
   "cell_type": "code",
   "execution_count": null,
   "metadata": {},
   "outputs": [],
   "source": [
    "cust_table_clust.to_pickle('data/SRP/cust_table.pkl')"
   ]
  }
 ],
 "metadata": {
  "kernelspec": {
   "display_name": "Python 3",
   "language": "python",
   "name": "python3"
  },
  "language_info": {
   "codemirror_mode": {
    "name": "ipython",
    "version": 3
   },
   "file_extension": ".py",
   "mimetype": "text/x-python",
   "name": "python",
   "nbconvert_exporter": "python",
   "pygments_lexer": "ipython3",
   "version": "3.6.4"
  }
 },
 "nbformat": 4,
 "nbformat_minor": 2
}
